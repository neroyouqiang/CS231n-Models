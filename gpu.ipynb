{
 "cells": [
  {
   "cell_type": "code",
   "execution_count": 4,
   "metadata": {},
   "outputs": [],
   "source": [
    "import time\n",
    "import GPUtil\n",
    "\n",
    "import mxnet as mx\n",
    "from mxnet import nd\n",
    "import numpy as np\n",
    "\n",
    "import torch"
   ]
  },
  {
   "cell_type": "code",
   "execution_count": 2,
   "metadata": {},
   "outputs": [
    {
     "name": "stdout",
     "output_type": "stream",
     "text": [
      "| ID | GPU | MEM |\n",
      "------------------\n",
      "|  0 |  0% |  0% |\n"
     ]
    }
   ],
   "source": [
    "GPUtil.showUtilization()"
   ]
  },
  {
   "cell_type": "markdown",
   "metadata": {},
   "source": [
    "# MXNET"
   ]
  },
  {
   "cell_type": "code",
   "execution_count": 12,
   "metadata": {},
   "outputs": [
    {
     "data": {
      "text/plain": [
       "range(0, 1)"
      ]
     },
     "execution_count": 12,
     "metadata": {},
     "output_type": "execute_result"
    }
   ],
   "source": [
    "mx.test_utils.list_gpus()"
   ]
  },
  {
   "cell_type": "code",
   "execution_count": 13,
   "metadata": {},
   "outputs": [],
   "source": [
    "a = np.random.randn(5000, 5000).astype(np.float32)"
   ]
  },
  {
   "cell_type": "code",
   "execution_count": 16,
   "metadata": {},
   "outputs": [
    {
     "name": "stdout",
     "output_type": "stream",
     "text": [
      "1.3003709316253662 -20.838308\n",
      "0.11835670471191406 -20.83839\n"
     ]
    }
   ],
   "source": [
    "# numpy\n",
    "time_start = time.time()\n",
    "b = np.dot(a, a)\n",
    "# b = a + a\n",
    "r2 = b\n",
    "time_end = time.time()\n",
    "\n",
    "print(time_end - time_start, r2[0][0])\n",
    "\n",
    "# mxnet\n",
    "b = nd.array(a, mx.gpu())\n",
    "\n",
    "time_start = time.time()\n",
    "b = nd.dot(b, b)\n",
    "# b = b + b\n",
    "r1 = b.asnumpy()\n",
    "time_end = time.time()\n",
    "\n",
    "print(time_end - time_start, r1[0][0])"
   ]
  },
  {
   "cell_type": "markdown",
   "metadata": {},
   "source": [
    "# Pytorch"
   ]
  },
  {
   "cell_type": "code",
   "execution_count": 5,
   "metadata": {},
   "outputs": [],
   "source": [
    "DTYPE = torch.FloatTensor\n",
    "#dtype = torch.cuda.FloatTensor"
   ]
  },
  {
   "cell_type": "code",
   "execution_count": 23,
   "metadata": {},
   "outputs": [
    {
     "name": "stdout",
     "output_type": "stream",
     "text": [
      "1.5772714614868164 cpu\n",
      "0.0001251697540283203 cuda:0\n"
     ]
    }
   ],
   "source": [
    "a1 = torch.rand([5000, 5000]).type(torch.FloatTensor)\n",
    "s = time.time()\n",
    "r1 = torch.mm(a1, a1)\n",
    "e = time.time()\n",
    "print(e - s, r1.device)\n",
    "\n",
    "a2 = torch.rand([5000, 5000]).type(torch.cuda.FloatTensor)\n",
    "s = time.time()\n",
    "r2 = torch.mm(a2, a2)\n",
    "e = time.time()\n",
    "print(e - s, r2.device)"
   ]
  },
  {
   "cell_type": "code",
   "execution_count": null,
   "metadata": {},
   "outputs": [],
   "source": []
  }
 ],
 "metadata": {
  "kernelspec": {
   "display_name": "Python 3",
   "language": "python",
   "name": "python3"
  },
  "language_info": {
   "codemirror_mode": {
    "name": "ipython",
    "version": 3
   },
   "file_extension": ".py",
   "mimetype": "text/x-python",
   "name": "python",
   "nbconvert_exporter": "python",
   "pygments_lexer": "ipython3",
   "version": "3.7.1"
  }
 },
 "nbformat": 4,
 "nbformat_minor": 2
}
