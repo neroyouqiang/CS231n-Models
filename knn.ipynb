{
 "cells": [
  {
   "cell_type": "code",
   "execution_count": 2,
   "metadata": {},
   "outputs": [],
   "source": [
    "%load_ext autoreload\n",
    "%autoreload 2\n",
    "\n",
    "from datasets import DataCifar10\n",
    "from models import KNN\n",
    "from optimers import Optimer\n",
    "from tuners import ParamTuner\n",
    "from utils import check_accuracy\n",
    "\n",
    "import numpy as np"
   ]
  },
  {
   "cell_type": "code",
   "execution_count": 3,
   "metadata": {},
   "outputs": [
    {
     "name": "stdout",
     "output_type": "stream",
     "text": [
      "Training data shape:  (5000, 3, 32, 32)\n",
      "Training labels shape:  (5000,)\n",
      "Validating data shape:  (1000, 3, 32, 32)\n",
      "Validating labels shape:  (1000,)\n",
      "Testing data shape:  (1000, 3, 32, 32)\n",
      "Testing labels shape:  (1000,)\n"
     ]
    }
   ],
   "source": [
    "# load data\n",
    "dataloader = DataCifar10('./datasets/cifar-10-batches-py', \n",
    "                         num_val=1000, num_train=5000, num_test=1000)\n",
    "dataloader.show_info()"
   ]
  },
  {
   "cell_type": "code",
   "execution_count": 3,
   "metadata": {},
   "outputs": [],
   "source": [
    "# train model\n",
    "model = KNN(hyperparams={'K': 3})\n",
    "optimer = Optimer()\n",
    "\n",
    "optimer.train(model, dataloader)"
   ]
  },
  {
   "cell_type": "code",
   "execution_count": 4,
   "metadata": {},
   "outputs": [
    {
     "name": "stdout",
     "output_type": "stream",
     "text": [
      "The accuracy on testing dataset is  0.26\n"
     ]
    }
   ],
   "source": [
    "# check accuracy\n",
    "scores = model.predict(dataloader.x_test)\n",
    "accuracy = check_accuracy(scores, dataloader.y_test)\n",
    "    \n",
    "print('The accuracy on testing dataset is ', accuracy)"
   ]
  },
  {
   "cell_type": "code",
   "execution_count": 36,
   "metadata": {},
   "outputs": [
    {
     "name": "stdout",
     "output_type": "stream",
     "text": [
      "Tune K in [2, 3, 4, 5, 6, 7, 8, 9, 10, 11, 12, 13, 14, 15, 16, 17, 18, 19]\n",
      "With {'K': 2} accuracy: 0.231  - Best!\n",
      "With {'K': 3} accuracy: 0.258  - Best!\n",
      "With {'K': 4} accuracy: 0.275  - Best!\n",
      "With {'K': 5} accuracy: 0.285  - Best!\n",
      "With {'K': 6} accuracy: 0.292  - Best!\n",
      "With {'K': 7} accuracy: 0.293  - Best!\n",
      "With {'K': 8} accuracy: 0.282\n",
      "With {'K': 9} accuracy: 0.287\n",
      "With {'K': 10} accuracy: 0.291\n",
      "With {'K': 11} accuracy: 0.281\n",
      "With {'K': 12} accuracy: 0.284\n",
      "With {'K': 13} accuracy: 0.288\n",
      "With {'K': 14} accuracy: 0.289\n",
      "With {'K': 15} accuracy: 0.292\n",
      "With {'K': 16} accuracy: 0.282\n",
      "With {'K': 17} accuracy: 0.28\n",
      "With {'K': 18} accuracy: 0.289\n",
      "With {'K': 19} accuracy: 0.29\n"
     ]
    }
   ],
   "source": [
    "# tune hyperparameters\n",
    "tuner = ParamTuner(KNN, Optimer, dataloader)\n",
    "model_best, param_best, acc_best = tuner.tune({'K': 3}, {'K': [i for i in range(2, 20)]})\n"
   ]
  },
  {
   "cell_type": "code",
   "execution_count": 39,
   "metadata": {},
   "outputs": [
    {
     "name": "stdout",
     "output_type": "stream",
     "text": [
      "The best hyperparameter is  {'K': 7}\n",
      "The best accuracy on validating dataset is  0.293\n",
      "The accuracy on testing dataset is  0.262\n"
     ]
    }
   ],
   "source": [
    "# check accuracy\n",
    "scores = model_best.predict(dataloader.x_test)\n",
    "accuracy = check_accuracy(scores, dataloader.y_test)\n",
    "    \n",
    "print('The best hyperparameter is ', param_best)\n",
    "print('The best accuracy on validating dataset is ', acc_best)\n",
    "print('The accuracy on testing dataset is ', accuracy)"
   ]
  },
  {
   "cell_type": "code",
   "execution_count": null,
   "metadata": {},
   "outputs": [],
   "source": []
  }
 ],
 "metadata": {
  "kernelspec": {
   "display_name": "Python 3",
   "language": "python",
   "name": "python3"
  },
  "language_info": {
   "codemirror_mode": {
    "name": "ipython",
    "version": 3
   },
   "file_extension": ".py",
   "mimetype": "text/x-python",
   "name": "python",
   "nbconvert_exporter": "python",
   "pygments_lexer": "ipython3",
   "version": "3.7.2"
  }
 },
 "nbformat": 4,
 "nbformat_minor": 2
}
