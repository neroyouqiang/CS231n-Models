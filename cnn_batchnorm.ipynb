{
 "cells": [
  {
   "cell_type": "code",
   "execution_count": 1,
   "metadata": {},
   "outputs": [],
   "source": [
    "%load_ext autoreload\n",
    "%autoreload 2\n",
    "\n",
    "from datasets import DataCifar10\n",
    "from models import MultiLayerConvNet\n",
    "from optimers import OptimerSGD, OptimerAdam\n",
    "from utils import check_accuracy, check_gradient\n",
    "from utils import show_training_infos, show_training_info"
   ]
  },
  {
   "cell_type": "code",
   "execution_count": 2,
   "metadata": {},
   "outputs": [
    {
     "name": "stdout",
     "output_type": "stream",
     "text": [
      "Training data shape:  (49000, 3, 32, 32)\n",
      "Training labels shape:  (49000,)\n",
      "Validating data shape:  (1000, 3, 32, 32)\n",
      "Validating labels shape:  (1000,)\n",
      "Testing data shape:  (1000, 3, 32, 32)\n",
      "Testing labels shape:  (1000,)\n"
     ]
    }
   ],
   "source": [
    "# load data\n",
    "dataloader = DataCifar10('./datasets/cifar-10-batches-py', norm_dis_mean=True, norm_div_std=False,\n",
    "                         num_val=1000, num_train=49000, num_test=1000)\n",
    "    \n",
    "print('Training data shape: ', dataloader.x_train.shape)\n",
    "print('Training labels shape: ', dataloader.y_train.shape)\n",
    "print('Validating data shape: ', dataloader.x_val.shape)\n",
    "print('Validating labels shape: ', dataloader.y_val.shape)\n",
    "print('Testing data shape: ', dataloader.x_test.shape)\n",
    "print('Testing labels shape: ', dataloader.y_test.shape)"
   ]
  },
  {
   "cell_type": "markdown",
   "metadata": {},
   "source": [
    "# Sanity check"
   ]
  },
  {
   "cell_type": "markdown",
   "metadata": {},
   "source": [
    "### Gradient check"
   ]
  },
  {
   "cell_type": "code",
   "execution_count": 3,
   "metadata": {},
   "outputs": [
    {
     "name": "stdout",
     "output_type": "stream",
     "text": [
      "Sanity check result:\n",
      "Init loss is 98.49625023668301\n",
      "\n",
      "Gradient check result -  1 :\n",
      "Layer | Key | Numerical gradient | Calculated gradient | Relative error\n",
      "<class 'models.layers.Spatial_BatchNorm'> gamma -0.06349826833229599 -0.06361828285570416 0.0018882595899045297\n",
      "<class 'models.layers.Spatial_BatchNorm'> beta -0.11593589590574992 -0.11594169305319983 5.0001791686228995e-05\n",
      "<class 'models.layers.Conv'> W 0.024804927534205486 0.024804927541320753 2.8684892138162597e-10\n",
      "<class 'models.layers.Conv'> b -0.06040902462700614 -0.060408180965728635 1.3965912774861933e-05\n",
      "<class 'models.layers.Spatial_BatchNorm'> gamma 0.010733107558280606 0.010691422409230288 0.0038913478254628507\n",
      "<class 'models.layers.Spatial_BatchNorm'> beta -0.017082334125007037 -0.01707502229255143 0.00042812636705390504\n",
      "<class 'models.layers.Conv'> W 0.08418451358238599 0.08418451348401226 1.1685489611244918e-09\n",
      "<class 'models.layers.Conv'> b 0.07665896788466853 0.07665896934434296 1.9041143694704783e-08\n",
      "<class 'models.layers.Linear'> W 0.16531415241161085 0.16531415321553328 4.8629982064133676e-09\n",
      "<class 'models.layers.Linear'> b 0.008406524898418866 0.008406525946648955 1.2469243080196297e-07\n",
      "<class 'models.layers.Linear'> W -0.07604377358916281 -0.07604377016209438 4.5067049543474386e-08\n",
      "<class 'models.layers.Linear'> b -0.06574187807473209 -0.06574187792951068 2.208963430304893e-09\n"
     ]
    }
   ],
   "source": [
    "def get_init_model(hyperparams):\n",
    "    return MultiLayerConvNet([3, 32, 32], 10, hyperparams=hyperparams, seed=99)\n",
    "\n",
    "# init model\n",
    "model = get_init_model({'reg': 0.6, 'init_scale': None, 'nums_conv': [16, 32], 'nums_hidden': [100]})\n",
    "\n",
    "# sanity check\n",
    "loss = model.backward(dataloader.x_train[0: 100, :], dataloader.y_train[0: 100])\n",
    "print('Sanity check result:')\n",
    "print('Init loss is', loss)\n",
    "\n",
    "# gradient check\n",
    "for i in range(1):\n",
    "    print('\\nGradient check result - ', i + 1, ':')\n",
    "    check_gradient(model, dataloader.x_train[0: 100, :], dataloader.y_train[0: 100])"
   ]
  },
  {
   "cell_type": "markdown",
   "metadata": {},
   "source": [
    "### Overfit small dataset"
   ]
  },
  {
   "cell_type": "code",
   "execution_count": 4,
   "metadata": {},
   "outputs": [
    {
     "name": "stdout",
     "output_type": "stream",
     "text": [
      "0 / 200 loss is 2.302585091185957\n",
      "20 / 200 loss is 2.1640512795303497\n",
      "40 / 200 loss is 1.3377259237846897\n",
      "60 / 200 loss is 0.6095258006497406\n",
      "80 / 200 loss is 0.3067217140413032\n",
      "100 / 200 loss is 0.1730643144905887\n",
      "120 / 200 loss is 0.08977818163952633\n",
      "140 / 200 loss is 0.09011505467464163\n",
      "160 / 200 loss is 0.08158934342845763\n",
      "180 / 200 loss is 0.10028959401206176\n"
     ]
    }
   ],
   "source": [
    "# load small dataset\n",
    "smallloader = DataCifar10('./datasets/cifar-10-batches-py', \n",
    "                          num_train=100, num_test=100, num_val=100)\n",
    "\n",
    "# init model\n",
    "model = get_init_model({'reg': 0.})\n",
    "\n",
    "optimer = OptimerAdam({'learn_rate': 1e-3, \n",
    "                       'num_iters': 200, \n",
    "                       'batch_size': 50}, print_every=20)\n",
    "\n",
    "# train model\n",
    "optimer.train(model, smallloader)\n",
    "\n",
    "# save model\n",
    "model.save('./saves/MultiLayerConvNet/model_small.pkl')"
   ]
  },
  {
   "cell_type": "code",
   "execution_count": 5,
   "metadata": {},
   "outputs": [
    {
     "data": {
      "image/png": "[encoded data removed]",
      "text/plain": [
       "<Figure size 432x288 with 1 Axes>"
      ]
     },
     "metadata": {
      "needs_background": "light"
     },
     "output_type": "display_data"
    },
    {
     "data": {
      "image/png": "[encoded data removed]",
      "text/plain": [
       "<Figure size 432x288 with 1 Axes>"
      ]
     },
     "metadata": {
      "needs_background": "light"
     },
     "output_type": "display_data"
    }
   ],
   "source": [
    "# plot loss curve\n",
    "show_training_info(optimer)"
   ]
  },
  {
   "cell_type": "code",
   "execution_count": 6,
   "metadata": {},
   "outputs": [
    {
     "name": "stdout",
     "output_type": "stream",
     "text": [
      "The accuracy on testing dataset is  0.18\n"
     ]
    }
   ],
   "source": [
    "# load model\n",
    "model = MultiLayerConvNet.load('./saves/MultiLayerConvNet/model_small.pkl')\n",
    "\n",
    "# check accuracy\n",
    "scores = model.predict(smallloader.x_test)\n",
    "accuracy = check_accuracy(scores, smallloader.y_test)\n",
    "    \n",
    "print('The accuracy on testing dataset is ', accuracy)"
   ]
  },
  {
   "cell_type": "markdown",
   "metadata": {},
   "source": [
    "# Train multi-layer convnet"
   ]
  },
  {
   "cell_type": "code",
   "execution_count": 31,
   "metadata": {
    "scrolled": true
   },
   "outputs": [
    {
     "name": "stdout",
     "output_type": "stream",
     "text": [
      "0 / 8000 loss is 11.912955411959055\n",
      "100 / 8000 loss is 4.830708078213337\n",
      "200 / 8000 loss is 2.9957214457156156\n",
      "300 / 8000 loss is 2.0415662297791974\n",
      "400 / 8000 loss is 2.005717275209516\n",
      "500 / 8000 loss is 1.88022303823152\n",
      "600 / 8000 loss is 1.6758329636362856\n",
      "700 / 8000 loss is 1.3611969129480455\n",
      "800 / 8000 loss is 1.4305706772863098\n",
      "900 / 8000 loss is 1.393157426442193\n",
      "1000 / 8000 loss is 1.534281301822195\n",
      "1100 / 8000 loss is 1.3720969889559373\n",
      "1200 / 8000 loss is 1.3500980658862618\n",
      "1300 / 8000 loss is 1.472436639386426\n",
      "1400 / 8000 loss is 1.2212554119312944\n",
      "1500 / 8000 loss is 1.5038779860350864\n",
      "1600 / 8000 loss is 1.296518025530967\n",
      "1700 / 8000 loss is 1.199356671395188\n",
      "1800 / 8000 loss is 1.0034180465993645\n",
      "1900 / 8000 loss is 1.328707688547246\n",
      "2000 / 8000 loss is 1.2521835906968288\n",
      "2100 / 8000 loss is 1.082181584356254\n",
      "2200 / 8000 loss is 1.1067547127032926\n",
      "2300 / 8000 loss is 1.0071529791160845\n",
      "2400 / 8000 loss is 1.0715195615969066\n",
      "2500 / 8000 loss is 1.0902307617010119\n",
      "2600 / 8000 loss is 1.0445600113942943\n",
      "2700 / 8000 loss is 1.3267552473547564\n",
      "2800 / 8000 loss is 0.8496376120115098\n",
      "2900 / 8000 loss is 1.1279114655512839\n",
      "3000 / 8000 loss is 1.1151859970913143\n",
      "3100 / 8000 loss is 1.050129393144554\n",
      "3200 / 8000 loss is 1.1839373530948076\n",
      "3300 / 8000 loss is 1.128878928751985\n",
      "3400 / 8000 loss is 0.9624031654665265\n",
      "3500 / 8000 loss is 1.0526992998638076\n",
      "3600 / 8000 loss is 0.9132886890745848\n",
      "3700 / 8000 loss is 1.090655598945235\n",
      "3800 / 8000 loss is 1.193214102979374\n",
      "3900 / 8000 loss is 0.9497952571065545\n",
      "4000 / 8000 loss is 1.2310545786763234\n",
      "4100 / 8000 loss is 1.003846266393297\n",
      "4200 / 8000 loss is 0.8682472318072945\n",
      "4300 / 8000 loss is 1.0133700165651245\n",
      "4400 / 8000 loss is 1.205280211071049\n",
      "4500 / 8000 loss is 1.1008284057278357\n",
      "4600 / 8000 loss is 1.2040077273556773\n",
      "4700 / 8000 loss is 0.847383867271591\n",
      "4800 / 8000 loss is 1.1034064628870026\n",
      "4900 / 8000 loss is 1.065667564079017\n",
      "5000 / 8000 loss is 1.0661136641833817\n",
      "5100 / 8000 loss is 1.0351311436000203\n",
      "5200 / 8000 loss is 0.9849208879520537\n",
      "5300 / 8000 loss is 0.9227467095488446\n",
      "5400 / 8000 loss is 1.011915158347212\n",
      "5500 / 8000 loss is 0.9698184917174388\n",
      "5600 / 8000 loss is 1.011138319168895\n",
      "5700 / 8000 loss is 0.9841328949522073\n",
      "5800 / 8000 loss is 0.8822987390352194\n",
      "5900 / 8000 loss is 0.9156911487054834\n",
      "6000 / 8000 loss is 1.0152602587877175\n",
      "6100 / 8000 loss is 0.7976611251535309\n",
      "6200 / 8000 loss is 1.072172747255079\n",
      "6300 / 8000 loss is 0.9738946565867569\n",
      "6400 / 8000 loss is 0.911110154822263\n",
      "6500 / 8000 loss is 0.957791380719149\n",
      "6600 / 8000 loss is 1.1803824910080742\n",
      "6700 / 8000 loss is 0.9184867270009335\n",
      "6800 / 8000 loss is 0.8052456545046679\n",
      "6900 / 8000 loss is 1.0961011890763097\n",
      "7000 / 8000 loss is 0.8840921047083761\n",
      "7100 / 8000 loss is 0.926111457225307\n",
      "7200 / 8000 loss is 0.8969617669339836\n",
      "7300 / 8000 loss is 0.9618542287219685\n",
      "7400 / 8000 loss is 0.8714443440957088\n",
      "7500 / 8000 loss is 0.977551167705663\n",
      "7600 / 8000 loss is 0.8619152688681802\n",
      "7700 / 8000 loss is 0.8453102124393755\n",
      "7800 / 8000 loss is 1.1049297417589072\n",
      "7900 / 8000 loss is 0.9176336141694396\n"
     ]
    }
   ],
   "source": [
    "# init model\n",
    "if True:\n",
    "    model = get_init_model({'reg': 0.01, 'init_scale': None, \n",
    "                            'nums_conv': [16, 32, 64, 64, 128], 'nums_hidden': [512]})\n",
    "else:\n",
    "    model = MultiLayerConvNet.load('./saves/MultiLayerConvNet/model.pkl')\n",
    "\n",
    "optimer = OptimerAdam({'learn_rate': 1e-3, \n",
    "                       'learn_rate_decay':0.95,\n",
    "                       'num_iters': 8000, \n",
    "                       'batch_size': 64}, print_every=100, record_every=50)\n",
    "\n",
    "# train model\n",
    "optimer.train(model, dataloader)\n",
    "\n",
    "# save model\n",
    "model.save('./saves/MultiLayerConvNet/model.pkl')"
   ]
  },
  {
   "cell_type": "code",
   "execution_count": 32,
   "metadata": {},
   "outputs": [
    {
     "data": {
      "image/png": "[encoded data removed]",
      "text/plain": [
       "<Figure size 432x288 with 1 Axes>"
      ]
     },
     "metadata": {
      "needs_background": "light"
     },
     "output_type": "display_data"
    },
    {
     "data": {
      "image/png": "[encoded data removed]",
      "text/plain": [
       "<Figure size 432x288 with 1 Axes>"
      ]
     },
     "metadata": {
      "needs_background": "light"
     },
     "output_type": "display_data"
    }
   ],
   "source": [
    "# plot loss curve\n",
    "show_training_info(optimer)"
   ]
  },
  {
   "cell_type": "code",
   "execution_count": 33,
   "metadata": {},
   "outputs": [
    {
     "name": "stdout",
     "output_type": "stream",
     "text": [
      "The accuracy on testing dataset is 0.752\n"
     ]
    }
   ],
   "source": [
    "# load model\n",
    "model = MultiLayerConvNet.load('./saves/MultiLayerConvNet/model.pkl')\n",
    "\n",
    "# check accuracy\n",
    "scores = model.predict(dataloader.x_test)\n",
    "accuracy = check_accuracy(scores, dataloader.y_test)\n",
    "    \n",
    "print('The accuracy on testing dataset is', accuracy)"
   ]
  },
  {
   "cell_type": "markdown",
   "metadata": {},
   "source": [
    "# Check all the trained models"
   ]
  },
  {
   "cell_type": "code",
   "execution_count": 34,
   "metadata": {},
   "outputs": [
    {
     "name": "stdout",
     "output_type": "stream",
     "text": [
      "< model_conv_16_32_hide_100.pkl > Testing accuracy: 0.707\n",
      "< model_conv_16_32_64_64_hide_300.pkl > Testing accuracy: 0.775\n",
      "< model_conv_16_32_64_64_128_hide_512.pkl > Testing accuracy: 0.752\n"
     ]
    }
   ],
   "source": [
    "def check_model(model_name):\n",
    "    # load model\n",
    "    model = MultiLayerConvNet.load('./saves/MultiLayerConvNet/' + model_name)\n",
    "\n",
    "    # check accuracy\n",
    "    scores = model.predict(dataloader.x_test)\n",
    "    accuracy = check_accuracy(scores, dataloader.y_test)\n",
    "\n",
    "    print('<', model_name, '>', 'Testing accuracy:', accuracy)\n",
    "    \n",
    "# check the trained models\n",
    "check_model('model_conv_16_32_hide_100.pkl')\n",
    "check_model('model_conv_16_32_64_64_hide_300.pkl')\n",
    "check_model('model_conv_16_32_64_64_128_hide_512.pkl')"
   ]
  },
  {
   "cell_type": "code",
   "execution_count": null,
   "metadata": {},
   "outputs": [],
   "source": []
  }
 ],
 "metadata": {
  "kernelspec": {
   "display_name": "Python 3",
   "language": "python",
   "name": "python3"
  },
  "language_info": {
   "codemirror_mode": {
    "name": "ipython",
    "version": 3
   },
   "file_extension": ".py",
   "mimetype": "text/x-python",
   "name": "python",
   "nbconvert_exporter": "python",
   "pygments_lexer": "ipython3",
   "version": "3.7.1"
  }
 },
 "nbformat": 4,
 "nbformat_minor": 2
}
