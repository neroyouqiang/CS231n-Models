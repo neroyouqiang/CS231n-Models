{
 "cells": [
  {
   "cell_type": "code",
   "execution_count": 1,
   "metadata": {},
   "outputs": [],
   "source": [
    "%load_ext autoreload\n",
    "%autoreload 2\n",
    "\n",
    "from datasets import DataCifar10\n",
    "from models import MultiLayerConvNet\n",
    "from optimers import OptimerSGD, OptimerAdam\n",
    "from utils import check_accuracy, check_gradient\n",
    "from utils import show_training_infos, show_training_info"
   ]
  },
  {
   "cell_type": "code",
   "execution_count": 2,
   "metadata": {},
   "outputs": [
    {
     "name": "stdout",
     "output_type": "stream",
     "text": [
      "Training data shape:  (49000, 3, 32, 32)\n",
      "Training labels shape:  (49000,)\n",
      "Validating data shape:  (1000, 3, 32, 32)\n",
      "Validating labels shape:  (1000,)\n",
      "Testing data shape:  (1000, 3, 32, 32)\n",
      "Testing labels shape:  (1000,)\n"
     ]
    }
   ],
   "source": [
    "# load data\n",
    "dataloader = DataCifar10('./datasets/cifar-10-batches-py', norm_dis_mean=True, norm_div_std=False,\n",
    "                         num_val=1000, num_train=49000, num_test=1000)\n",
    "    \n",
    "print('Training data shape: ', dataloader.x_train.shape)\n",
    "print('Training labels shape: ', dataloader.y_train.shape)\n",
    "print('Validating data shape: ', dataloader.x_val.shape)\n",
    "print('Validating labels shape: ', dataloader.y_val.shape)\n",
    "print('Testing data shape: ', dataloader.x_test.shape)\n",
    "print('Testing labels shape: ', dataloader.y_test.shape)"
   ]
  },
  {
   "cell_type": "code",
   "execution_count": 3,
   "metadata": {},
   "outputs": [],
   "source": [
    "def get_init_model(hyperparams, device='cpu'):\n",
    "    return MultiLayerConvNet([3, 32, 32], 10, hyperparams=hyperparams, seed=99, device=device)"
   ]
  },
  {
   "cell_type": "markdown",
   "metadata": {},
   "source": [
    "# Sanity check"
   ]
  },
  {
   "cell_type": "markdown",
   "metadata": {},
   "source": [
    "### Gradient check"
   ]
  },
  {
   "cell_type": "code",
   "execution_count": 4,
   "metadata": {},
   "outputs": [
    {
     "name": "stdout",
     "output_type": "stream",
     "text": [
      "Sanity check result:\n",
      "Init loss is 3.124665\n",
      "\n",
      "Gradient check result -  1 :\n",
      "Layer | Key | Numerical gradient | Calculated gradient | Relative error\n",
      "Spatial_BatchNorm gamma 0.8106231689453125 0.81181943 0.0014746471996581933\n",
      "Spatial_BatchNorm beta -0.0635385513305664 -0.06365801 0.0018782765942404165\n",
      "Conv W -0.028252601623535156 -0.028177842 0.0026496025992194844\n",
      "Conv b -0.044345855712890625 -0.044749655 0.009064409960799274\n",
      "Linear W 0.060677528381347656 0.06073459 0.0009399436052246676\n",
      "Linear b 0.04112720489501953 0.041196268 0.0016778484767703422\n",
      "Linear W -0.07128715515136719 -0.07125881 0.0003976542995900732\n",
      "Linear b -0.013947486877441406 -0.014055339 0.007702923442532636\n"
     ]
    }
   ],
   "source": [
    "# init model\n",
    "model = get_init_model({'reg': 0.6, 'init_scale': None, 'nums_conv': [32], 'nums_hidden': [32]}, device='gpu')\n",
    "\n",
    "# sanity check\n",
    "loss = model.backward(dataloader.x_train[0: 100, :], dataloader.y_train[0: 100])\n",
    "print('Sanity check result:')\n",
    "print('Init loss is', loss)\n",
    "\n",
    "# gradient check\n",
    "for i in range(1):\n",
    "    print('\\nGradient check result - ', i + 1, ':')\n",
    "    check_gradient(model, dataloader.x_train[0: 100, :], dataloader.y_train[0: 100], h=0.001)"
   ]
  },
  {
   "cell_type": "markdown",
   "metadata": {},
   "source": [
    "### Overfit small dataset"
   ]
  },
  {
   "cell_type": "code",
   "execution_count": 9,
   "metadata": {},
   "outputs": [
    {
     "name": "stdout",
     "output_type": "stream",
     "text": [
      "0 / 200 loss is 2.3025851\n",
      "20 / 200 loss is 2.0407667\n",
      "40 / 200 loss is 1.4524845\n",
      "60 / 200 loss is 0.82858336\n",
      "80 / 200 loss is 0.5546423\n",
      "100 / 200 loss is 0.26341158\n",
      "120 / 200 loss is 0.19558778\n",
      "140 / 200 loss is 0.19880354\n",
      "160 / 200 loss is 0.13557081\n",
      "180 / 200 loss is 0.15549242\n"
     ]
    }
   ],
   "source": [
    "# load small dataset\n",
    "smallloader = DataCifar10('./datasets/cifar-10-batches-py', \n",
    "                          num_train=100, num_test=100, num_val=100)\n",
    "\n",
    "# init model\n",
    "model = get_init_model({'reg': 0.}, device='gpu')\n",
    "\n",
    "optimer = OptimerAdam({'learn_rate': 1e-3, \n",
    "                       'num_iters': 200, \n",
    "                       'batch_size': 50}, print_every=20)\n",
    "\n",
    "# train model\n",
    "optimer.train(model, smallloader)\n",
    "\n",
    "# save model\n",
    "model.save('./saves/MultiLayerConvNet/model_small.pkl')"
   ]
  },
  {
   "cell_type": "code",
   "execution_count": 10,
   "metadata": {},
   "outputs": [
    {
     "data": {
      "image/png": "[encoded data removed]",
      "text/plain": [
       "<Figure size 432x288 with 1 Axes>"
      ]
     },
     "metadata": {
      "needs_background": "light"
     },
     "output_type": "display_data"
    },
    {
     "data": {
      "image/png": "[encoded data removed]",
      "text/plain": [
       "<Figure size 432x288 with 1 Axes>"
      ]
     },
     "metadata": {
      "needs_background": "light"
     },
     "output_type": "display_data"
    }
   ],
   "source": [
    "# plot loss curve\n",
    "show_training_info(optimer)"
   ]
  },
  {
   "cell_type": "code",
   "execution_count": 11,
   "metadata": {},
   "outputs": [
    {
     "name": "stdout",
     "output_type": "stream",
     "text": [
      "The accuracy on testing dataset is  0.15\n"
     ]
    }
   ],
   "source": [
    "# load model\n",
    "model = MultiLayerConvNet.load('./saves/MultiLayerConvNet/model_small.pkl')\n",
    "\n",
    "# check accuracy\n",
    "scores = model.predict(smallloader.x_test)\n",
    "accuracy = check_accuracy(scores, smallloader.y_test)\n",
    "    \n",
    "print('The accuracy on testing dataset is ', accuracy)"
   ]
  },
  {
   "cell_type": "markdown",
   "metadata": {},
   "source": [
    "# Run time test"
   ]
  },
  {
   "cell_type": "markdown",
   "metadata": {},
   "source": [
    "### Backpropagation"
   ]
  },
  {
   "cell_type": "code",
   "execution_count": 5,
   "metadata": {
    "scrolled": false
   },
   "outputs": [
    {
     "name": "stdout",
     "output_type": "stream",
     "text": [
      "\n",
      "Run time for CPU model:\n",
      "\n",
      "Forward time: 0.6053717136383057\n",
      "     Spatial_BatchNorm : 0.051779747009277344\n",
      "     Conv : 0.3186936378479004\n",
      "     ReLU : 0.043019771575927734\n",
      "     MaxPool : 0.18734979629516602\n",
      "     Linear : 0.0038068294525146484\n",
      "     ReLU : 8.511543273925781e-05\n",
      "     Linear : 0.0006368160247802734\n",
      "\n",
      "Backward time: 0.38763427734375\n",
      "     Linear : 0.14172911643981934\n",
      "     ReLU : 0.0327301025390625\n",
      "     Linear : 0.16017603874206543\n",
      "     MaxPool : 0.0038542747497558594\n",
      "     ReLU : 6.079673767089844e-05\n",
      "     Conv : 6.508827209472656e-05\n",
      "     Spatial_BatchNorm : 0.010250329971313477\n",
      "\n",
      "Reg time: 0.0003199577331542969\n",
      "\n",
      "Run time for GPU model:\n",
      "\n",
      "Forward time: 0.023232221603393555\n",
      "     Spatial_BatchNorm : 0.005196332931518555\n",
      "     Conv : 0.00974893569946289\n",
      "     ReLU : 0.0010993480682373047\n",
      "     MaxPool : 0.0062067508697509766\n",
      "     Linear : 0.0004265308380126953\n",
      "     ReLU : 0.00022721290588378906\n",
      "     Linear : 0.00032711029052734375\n",
      "\n",
      "Backward time: 0.024204730987548828\n",
      "     Linear : 0.009144306182861328\n",
      "     ReLU : 0.00048160552978515625\n",
      "     Linear : 0.005715608596801758\n",
      "     MaxPool : 0.0005788803100585938\n",
      "     ReLU : 0.0002589225769042969\n",
      "     Conv : 0.0003287792205810547\n",
      "     Spatial_BatchNorm : 0.005921840667724609\n",
      "\n",
      "Reg time: 0.0009546279907226562\n"
     ]
    }
   ],
   "source": [
    "# init model\n",
    "hyperparam = {'reg': 0.01, 'init_scale': None, 'nums_conv': [16], 'nums_hidden': [16]}\n",
    "\n",
    "# init model\n",
    "model1 = get_init_model(hyperparam, device='cpu')\n",
    "model2 = get_init_model(hyperparam, device='gpu')\n",
    "\n",
    "# the backpropagation\n",
    "print('\\nRun time for CPU model:')\n",
    "loss1 = model1.backward(dataloader.x_train[0: 256, :], dataloader.y_train[0: 256], print_time=True)\n",
    "\n",
    "print('\\nRun time for GPU model:')\n",
    "loss2 = model2.backward(dataloader.x_train[0: 256, :], dataloader.y_train[0: 256], print_time=True)"
   ]
  },
  {
   "cell_type": "markdown",
   "metadata": {},
   "source": [
    "### Parameters modification"
   ]
  },
  {
   "cell_type": "code",
   "execution_count": 6,
   "metadata": {},
   "outputs": [
    {
     "name": "stdout",
     "output_type": "stream",
     "text": [
      "\n",
      "Run time for CPU model:\n",
      "Time: 0.7279298305511475\n",
      "    Load data: 0.0029096603393554688\n",
      "    Backpropagate: 0.7239573001861572\n",
      "    Modify parameters: 0.0010569095611572266\n",
      "    Others: 5.9604644775390625e-06\n",
      "\n",
      "Run time for GPU model:\n",
      "Time: 0.0471186637878418\n",
      "    Load data: 0.0021276473999023438\n",
      "    Backpropagate: 0.03924202919006348\n",
      "    Modify parameters: 0.00574493408203125\n",
      "    Others: 4.0531158447265625e-06\n"
     ]
    }
   ],
   "source": [
    "# init optimer\n",
    "optimer = OptimerAdam({'learn_rate': 1e-3, 'learn_rate_decay':0.95, 'num_iters': 1, 'batch_size': 256}, \n",
    "                      print_every=None)\n",
    "\n",
    "# parameter modify\n",
    "print('\\nRun time for CPU model:')\n",
    "optimer.train(model1, dataloader, print_time=True)\n",
    "\n",
    "print('\\nRun time for GPU model:')\n",
    "optimer.train(model2, dataloader, print_time=True)"
   ]
  },
  {
   "cell_type": "markdown",
   "metadata": {},
   "source": [
    "# Train multi-layer convnet"
   ]
  },
  {
   "cell_type": "code",
   "execution_count": 20,
   "metadata": {
    "scrolled": false
   },
   "outputs": [
    {
     "name": "stdout",
     "output_type": "stream",
     "text": [
      "0 / 6000 loss is 3.6013892\n",
      "200 / 6000 loss is 1.2326652\n",
      "400 / 6000 loss is 0.89248145\n",
      "600 / 6000 loss is 0.78582066\n",
      "800 / 6000 loss is 0.6870721\n",
      "1000 / 6000 loss is 0.5419202\n",
      "1200 / 6000 loss is 0.6188348\n",
      "1400 / 6000 loss is 0.49370778\n",
      "1600 / 6000 loss is 0.5329258\n",
      "1800 / 6000 loss is 0.44893044\n",
      "2000 / 6000 loss is 0.35726166\n",
      "2200 / 6000 loss is 0.47899953\n",
      "2400 / 6000 loss is 0.3359823\n",
      "2600 / 6000 loss is 0.21608697\n",
      "2800 / 6000 loss is 0.33617958\n",
      "3000 / 6000 loss is 0.12611827\n",
      "3200 / 6000 loss is 0.17588282\n",
      "3400 / 6000 loss is 0.253989\n",
      "3600 / 6000 loss is 0.18388426\n",
      "3800 / 6000 loss is 0.17481433\n",
      "4000 / 6000 loss is 0.12966199\n",
      "4200 / 6000 loss is 0.18280783\n",
      "4400 / 6000 loss is 0.15726224\n",
      "4600 / 6000 loss is 0.099039145\n",
      "4800 / 6000 loss is 0.11993253\n",
      "5000 / 6000 loss is 0.050211187\n",
      "5200 / 6000 loss is 0.053248618\n",
      "5400 / 6000 loss is 0.040186036\n",
      "5600 / 6000 loss is 0.11469938\n",
      "5800 / 6000 loss is 0.06292169\n"
     ]
    }
   ],
   "source": [
    "# init model\n",
    "if True:\n",
    "    model = get_init_model({'reg': 0.01, 'init_scale': None, \n",
    "                            'nums_conv': [32, 64, 128], 'nums_hidden': [256]}, device='gpu')\n",
    "else:\n",
    "    model = MultiLayerConvNet.load('./saves/MultiLayerConvNet/model.pkl')\n",
    "\n",
    "optimer = OptimerAdam({'learn_rate': 1e-3, \n",
    "                       'learn_rate_decay':0.95,\n",
    "                       'num_iters': 6000, \n",
    "                       'batch_size': 128}, print_every=200, record_every=100)\n",
    "\n",
    "# train model\n",
    "optimer.train(model, dataloader)\n",
    "\n",
    "# save model\n",
    "model.save('./saves/MultiLayerConvNet/model.pkl')"
   ]
  },
  {
   "cell_type": "code",
   "execution_count": 18,
   "metadata": {},
   "outputs": [
    {
     "data": {
      "image/png": "[encoded data removed]",
      "text/plain": [
       "<Figure size 432x288 with 1 Axes>"
      ]
     },
     "metadata": {
      "needs_background": "light"
     },
     "output_type": "display_data"
    },
    {
     "data": {
      "image/png": "[encoded data removed]",
      "text/plain": [
       "<Figure size 432x288 with 1 Axes>"
      ]
     },
     "metadata": {
      "needs_background": "light"
     },
     "output_type": "display_data"
    }
   ],
   "source": [
    "# plot loss curve\n",
    "show_training_info(optimer)"
   ]
  },
  {
   "cell_type": "code",
   "execution_count": 21,
   "metadata": {},
   "outputs": [
    {
     "name": "stdout",
     "output_type": "stream",
     "text": [
      "The accuracy on testing dataset is 0.743\n"
     ]
    }
   ],
   "source": [
    "# load model\n",
    "model = MultiLayerConvNet.load('./saves/MultiLayerConvNet/model.pkl')\n",
    "\n",
    "# check accuracy\n",
    "scores = model.predict(dataloader.x_test)\n",
    "accuracy = check_accuracy(scores, dataloader.y_test)\n",
    "    \n",
    "print('The accuracy on testing dataset is', accuracy)"
   ]
  },
  {
   "cell_type": "markdown",
   "metadata": {},
   "source": [
    "# Check all the trained models"
   ]
  },
  {
   "cell_type": "code",
   "execution_count": 34,
   "metadata": {},
   "outputs": [
    {
     "name": "stdout",
     "output_type": "stream",
     "text": [
      "< model_conv_16_32_hide_100.pkl > Testing accuracy: 0.707\n",
      "< model_conv_16_32_64_64_hide_300.pkl > Testing accuracy: 0.775\n",
      "< model_conv_16_32_64_64_128_hide_512.pkl > Testing accuracy: 0.752\n"
     ]
    }
   ],
   "source": [
    "def check_model(model_name):\n",
    "    # load model\n",
    "    model = MultiLayerConvNet.load('./saves/MultiLayerConvNet/' + model_name)\n",
    "\n",
    "    # check accuracy\n",
    "    scores = model.predict(dataloader.x_test)\n",
    "    accuracy = check_accuracy(scores, dataloader.y_test)\n",
    "\n",
    "    print('<', model_name, '>', 'Testing accuracy:', accuracy)\n",
    "    \n",
    "# check the trained models\n",
    "check_model('model_conv_16_32_hide_100.pkl')\n",
    "check_model('model_conv_16_32_64_64_hide_300.pkl')\n",
    "check_model('model_conv_16_32_64_64_128_hide_512.pkl')"
   ]
  },
  {
   "cell_type": "code",
   "execution_count": null,
   "metadata": {},
   "outputs": [],
   "source": []
  }
 ],
 "metadata": {
  "kernelspec": {
   "display_name": "Python 3",
   "language": "python",
   "name": "python3"
  },
  "language_info": {
   "codemirror_mode": {
    "name": "ipython",
    "version": 3
   },
   "file_extension": ".py",
   "mimetype": "text/x-python",
   "name": "python",
   "nbconvert_exporter": "python",
   "pygments_lexer": "ipython3",
   "version": "3.7.2"
  }
 },
 "nbformat": 4,
 "nbformat_minor": 2
}
